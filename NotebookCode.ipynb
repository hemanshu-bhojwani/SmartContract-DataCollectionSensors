{
  "nbformat": 4,
  "nbformat_minor": 0,
  "metadata": {
    "colab": {
      "provenance": []
    },
    "kernelspec": {
      "name": "python3",
      "display_name": "Python 3"
    },
    "language_info": {
      "name": "python"
    }
  },
  "cells": [
    {
      "cell_type": "markdown",
      "source": [
        "# Components\n",
        "\n",
        "Smart contract with sensors connected as light nodes that operate governed by the contracts.\n",
        "\n",
        "Use of MPC for secure data processing. (sending totals)\n",
        "\n",
        "A PKI will be used to help ensure authenticity of the data being transmitted by sensors. Private keys will be held locally by each sensor (implemented in smart contract).\n",
        "\n",
        "Data will be stored on the blockchain, that is maintained by the owner.\n"
      ],
      "metadata": {
        "id": "GMKgdRGRrshp"
      }
    },
    {
      "cell_type": "markdown",
      "source": [
        "**Trash Data Logging**\n",
        " \n",
        "Sensors log amount of trash collected every minute and add it to its days aggregate total.\n",
        "\n",
        "Will return as much as 21.6 lbs/day, around the range of the dashboard shown in the project description"
      ],
      "metadata": {
        "id": "wjFnRVZl-r6j"
      }
    },
    {
      "cell_type": "code",
      "source": [
        "import random\n",
        "\n",
        "def SensorCollection(): \n",
        "  aggregate = 0 # Total Trash for Day in lbs\n",
        "  for i in range(1440): # Simulates Data Collected per Minute\n",
        "    aggregate += random.uniform(0, 0.015)\n",
        "  return aggregate \n",
        "  \n",
        "print(SensorCollection())"
      ],
      "metadata": {
        "colab": {
          "base_uri": "https://localhost:8080/"
        },
        "id": "vCjLdlqS-rcH",
        "outputId": "276f0593-941e-4153-cad9-61609b74118f"
      },
      "execution_count": null,
      "outputs": [
        {
          "output_type": "stream",
          "name": "stdout",
          "text": [
            "10.763726548668213\n"
          ]
        }
      ]
    },
    {
      "cell_type": "markdown",
      "source": [
        "**Energy Data Logging**\n",
        " \n",
        "Sensors log amount of energy used every minute and add it to its days aggregate total. Here, we calculate the energy that goes through the sensor.\n",
        "\n",
        "The average building uses 22.5 kilowatt-hours per square foot per year (based on link below). Assuming that CCDS is 6000 sq.ft (estimate) and 18 floors, we can calculate a daily energy consumption of:\n",
        "\n",
        "(6000 * 22.5 * 18 ) / 24 = 6,657.53 kilowatt-hours per day.\n",
        "\n",
        "Therefore, in our model we can estimate each sensor to be seeing energy consumption of around 1,331.506 kWh. This would mean, ~0.92 kWh per minute. We will estimat the data range to be within 0 and 1.4 kWh per minute.\n",
        "\n",
        "**Note: View modifications to the code section in the Report**\n",
        "\n",
        "\n",
        "https://www.buildingsiot.com/blog/building-energy-consumption-breakdown-for-owners-and-management-bd#:~:text=According%20to%20Department%20of%20Energy,kilowatt%2Dhours%20per%20square%20foot."
      ],
      "metadata": {
        "id": "nnecTdWpLoql"
      }
    },
    {
      "cell_type": "code",
      "source": [
        "def SensorEnergyCollection(): \n",
        "  aggregate = 0 # Total Energy for Day in KwH\n",
        "  for i in range(1440): # Simulates Data Collected per Minute\n",
        "    aggregate += random.uniform(0, 1.4)\n",
        "  return aggregate \n",
        "  \n",
        "print(SensorEnergyCollection())"
      ],
      "metadata": {
        "colab": {
          "base_uri": "https://localhost:8080/"
        },
        "id": "zV7MtbCcLm5j",
        "outputId": "dde2c2f6-5a48-4c6a-dd8b-bc473db909ec"
      },
      "execution_count": null,
      "outputs": [
        {
          "output_type": "stream",
          "name": "stdout",
          "text": [
            "986.5457692900062\n"
          ]
        }
      ]
    },
    {
      "cell_type": "markdown",
      "source": [
        "**Temperature Data Logging**\n",
        "\n",
        "Temperature is handled a little differently, a single piece of data posted at the end cannot be a total as the total as a data point would not make sense to a user. Therefore, we calculate the total and divide by the number of data points to come up with the day's average temperature."
      ],
      "metadata": {
        "id": "fbmSpXRxPzfX"
      }
    },
    {
      "cell_type": "code",
      "source": [
        "def SensorTemperatureCollection(): \n",
        "  aggregate = 0 # Total Tem for Day in KwH\n",
        "  for i in range(1440): # Simulates Data Collected per Minute\n",
        "    aggregate += random.uniform(0, 100)\n",
        "  return aggregate/1440\n",
        "  \n",
        "print(SensorTemperatureCollection())"
      ],
      "metadata": {
        "id": "YaMwbGHJPzA6",
        "colab": {
          "base_uri": "https://localhost:8080/"
        },
        "outputId": "bd73387c-14a0-4063-82c5-aa33de61f00e"
      },
      "execution_count": null,
      "outputs": [
        {
          "output_type": "stream",
          "name": "stdout",
          "text": [
            "50.52054328958682\n"
          ]
        }
      ]
    },
    {
      "cell_type": "markdown",
      "source": [
        "**MPC Component**\n",
        " \n",
        "Sensors will share their totals through MPC to come up with a daily aggregate total. (Base Code from HW6) This implementation works for Trash Data. It could be modified to meet the needs of energy and temperature data.\n",
        "\n",
        "Modified SynchronousNetwork and MPCParty to accomodate for the use of decimals for increased precision (correct upto 3 decimal places)"
      ],
      "metadata": {
        "id": "9Ha1uvyjsauU"
      }
    },
    {
      "cell_type": "code",
      "source": [
        "# Execute this code block if using Google Colab, or else install this package yourself\n",
        "!pip install fixedint"
      ],
      "metadata": {
        "id": "vN72TbW5uA0E",
        "colab": {
          "base_uri": "https://localhost:8080/"
        },
        "outputId": "0f1e0fa2-e3a3-4bc8-d8f8-2da03d95b7ba"
      },
      "execution_count": null,
      "outputs": [
        {
          "output_type": "stream",
          "name": "stdout",
          "text": [
            "Looking in indexes: https://pypi.org/simple, https://us-python.pkg.dev/colab-wheels/public/simple/\n",
            "Collecting fixedint\n",
            "  Downloading fixedint-0.2.0-py3-none-any.whl (14 kB)\n",
            "Installing collected packages: fixedint\n",
            "Successfully installed fixedint-0.2.0\n"
          ]
        }
      ]
    },
    {
      "cell_type": "code",
      "source": [
        "## Execute, but DO NOT MODIFY this code block ##\n",
        "\n",
        "from typing import List\n",
        "import random\n",
        "from fixedint import UInt8\n",
        "\n",
        "# this method is used only for creating the debug log\n",
        "def printList(x: List[UInt8]):\n",
        "    if(x == None):\n",
        "        return '[]'\n",
        "    output = '[ '\n",
        "    for i in x:\n",
        "        output += str(i) + \" \"\n",
        "    output += ']'\n",
        "    return output\n",
        "\n",
        "# The Party class is a base class representing a single participant in a distributed protocol.\n",
        "# This party can choose what messages to send, and can record the contents of messages received.\n",
        "class Party:\n",
        "    def __init__(self, id: int, nb_faulty_parties: int, nb_total_parties: int, input: List[UInt8]):\n",
        "        # Precondition: we guarantee that the party's id is between 1 and n\n",
        "        self.id = id\n",
        "        # In your code, you should assume that the party is honest\n",
        "        # (we handle faulty parties separately in the SynchronousNetwork class)\n",
        "        self.input = input\n",
        "        self.is_faulty = False\n",
        "        self.f = nb_faulty_parties\n",
        "        self.n = nb_total_parties\n",
        "\n",
        "    # send and receive proceeds in rounds\n",
        "    # our SynchronousNetwork always completes one round before starting the next one\n",
        "    def send(self, round_number: int, destination_party: int) -> List[UInt8]:\n",
        "        return\n",
        "\n",
        "    def receive(self, round_number: int, sender_party: int, val: List[UInt8]) -> None:\n",
        "        # do an action based on what you receive from the sender party\n",
        "        # but don't return anything\n",
        "        return None\n",
        "\n",
        "    # the output method is only run once at the end of the protocol\n",
        "    # after all rounds of communication are complete\n",
        "    def output(self):\n",
        "        ## return what this party decides to output\n",
        "        return\n",
        "\n",
        "class SynchronousNetwork:\n",
        "    # faulty parties only matter for the optional task\n",
        "    def __init__(self, PartyType, nb_faulty_parties: int,\n",
        "                 nb_total_parties: int, inputs: list, debug=False):\n",
        "        # verify that f < n\n",
        "        assert(nb_faulty_parties < nb_total_parties)\n",
        "        assert(len(inputs) == nb_total_parties)\n",
        "        self.debug = debug\n",
        "\n",
        "        # creating several parties with the prescribed inputs\n",
        "        self.parties = [PartyType(i, nb_faulty_parties, nb_total_parties,\n",
        "                                  inputs[i-1]) for i in range(1, nb_total_parties + 1)]\n",
        "        self.debug_print(\"Inputs:\")\n",
        "        for i in range(1, nb_total_parties + 1):\n",
        "            self.debug_print(\"Party \" + str(i) + \" input: \" + str(inputs[i-1]))\n",
        "\n",
        "        # randomly set some of the parties to be faulty, except the last one\n",
        "        for p in random.sample(self.parties, nb_faulty_parties):\n",
        "            if(p.id != 4):\n",
        "                p.is_faulty = True\n",
        "        self.leader = random.sample(self.parties, 1)[0]\n",
        "\n",
        "    def run(self, nb_rounds) -> list:\n",
        "        # execute all nb_rounds rounds of the synchronous protocol, in order\n",
        "        for i in range(1, nb_rounds + 1):\n",
        "            self.debug_print(\"\\nStart of round \" + str(i) + \":\")\n",
        "\n",
        "            for p1 in self.parties:\n",
        "                for p2 in self.parties:\n",
        "                    # each party can send one message to all parties (including itself!)\n",
        "                    val = SynchronousNetwork.send_with_errors(i, p1, p2.id)\n",
        "                    self.debug_print(\"party with id \" + str(p1.id) + \" sending to party with id \" \n",
        "                                         + str(p2.id) + \" a message with content: \" + str(val))\n",
        "\n",
        "                    # recipient receives the message instantaneously\n",
        "                    p2.receive(i, p1.id, val)\n",
        "\n",
        "        # after all rounds are finished, retrieve each party's output\n",
        "        res = [p.output() for p in self.parties]\n",
        "        return res\n",
        "\n",
        "    def send_with_errors(round_nb, sender, recv) -> List[UInt8]:\n",
        "        message = sender.send(round_nb, recv)\n",
        "\n",
        "        # for honest parties or most of the time for faulty parties,\n",
        "        # call the sender party and perform the action it wants\n",
        "        r = random.random()\n",
        "        if (not sender.is_faulty or r < 0.95):\n",
        "            return message\n",
        "        # for faulty parties, occasionally send random numbers\n",
        "        # this case only matters for the optional task\n",
        "        else:\n",
        "            for i in range(len(message)):\n",
        "                message[i] = UInt8(random.randrange(256))\n",
        "            return message\n",
        "\n",
        "    # pretty-printer that you can use to view the network communication\n",
        "    def debug_print(self, obj):\n",
        "        if self.debug:\n",
        "            print(obj)\n",
        "        else:\n",
        "            pass"
      ],
      "metadata": {
        "id": "-GFznZXEt_ol"
      },
      "execution_count": null,
      "outputs": []
    },
    {
      "cell_type": "code",
      "execution_count": null,
      "metadata": {
        "id": "c0ClodBB10_o"
      },
      "outputs": [],
      "source": [
        "def splitnum(x):\n",
        "  while True:\n",
        "    int1 = random.uniform(0, 255)\n",
        "    int2 = random.uniform(0, 255)\n",
        "    int3 = random.uniform(0, 255)\n",
        "    int4 = random.uniform(0, 255)\n",
        "    int5 = (x - int1 - int2 - int3 - int4) % 256\n",
        "    if (int1 and int2 and int3 and int4 and int5) != 0:\n",
        "      return [int1, int2, int3, int4, int5]\n",
        "\n",
        "class MPCParty(Party):\n",
        "    def __init__(self, *args, **kwargs):\n",
        "        super().__init__(*args, **kwargs)\n",
        "        self.shares = [0] * 5\n",
        "        self.othershares = [0] * 5\n",
        "\n",
        "    def send(self, round_number: int, destination_party: int):\n",
        "        if round_number == 1:\n",
        "          if self.shares[4] == 0:\n",
        "            self.shares = splitnum(self.input[0])\n",
        "          return self.shares[destination_party-1]\n",
        "\n",
        "    def receive(self, round_number: int, sender_party: int, val: List[UInt8]):\n",
        "        if round_number == 1:\n",
        "          self.othershares[self.id-1] = self.shares[self.id-1]\n",
        "          self.othershares[sender_party-1] = val\n",
        "\n",
        "    def output(self):\n",
        "        return sum(self.othershares) % 256"
      ]
    },
    {
      "cell_type": "code",
      "source": [
        "mpc_inputs = [[SensorCollection()],[SensorCollection()],[SensorCollection()], [SensorCollection()], [SensorCollection()]]\n",
        "mpcNetwork = SynchronousNetwork(MPCParty, 0, 5, mpc_inputs, debug=True)\n",
        "result = mpcNetwork.run(1)\n",
        "print(result)\n",
        "print(\"Day's Total:\", sum(result) % 256)"
      ],
      "metadata": {
        "colab": {
          "base_uri": "https://localhost:8080/"
        },
        "id": "wlJ7mfZl4PLJ",
        "outputId": "a8d9aacf-4dac-4e23-abda-fb04cad692fa"
      },
      "execution_count": null,
      "outputs": [
        {
          "output_type": "stream",
          "name": "stdout",
          "text": [
            "Inputs:\n",
            "Party 1 input: [10.611561922330747]\n",
            "Party 2 input: [10.786213091135949]\n",
            "Party 3 input: [10.758179181169703]\n",
            "Party 4 input: [10.861105598751285]\n",
            "Party 5 input: [10.713363225070921]\n",
            "\n",
            "Start of round 1:\n",
            "party with id 1 sending to party with id 1 a message with content: 19.62539246901529\n",
            "party with id 1 sending to party with id 2 a message with content: 167.92368898552246\n",
            "party with id 1 sending to party with id 3 a message with content: 82.1255112881261\n",
            "party with id 1 sending to party with id 4 a message with content: 111.62971277987177\n",
            "party with id 1 sending to party with id 5 a message with content: 141.30725639979516\n",
            "party with id 2 sending to party with id 1 a message with content: 143.33322932485473\n",
            "party with id 2 sending to party with id 2 a message with content: 244.93177349844285\n",
            "party with id 2 sending to party with id 3 a message with content: 60.43520562156094\n",
            "party with id 2 sending to party with id 4 a message with content: 141.0916851607797\n",
            "party with id 2 sending to party with id 5 a message with content: 188.99431948549773\n",
            "party with id 3 sending to party with id 1 a message with content: 91.37331031254749\n",
            "party with id 3 sending to party with id 2 a message with content: 155.72099485574685\n",
            "party with id 3 sending to party with id 3 a message with content: 61.08591440117554\n",
            "party with id 3 sending to party with id 4 a message with content: 186.506794047992\n",
            "party with id 3 sending to party with id 5 a message with content: 28.071165563707837\n",
            "party with id 4 sending to party with id 1 a message with content: 169.96699439576514\n",
            "party with id 4 sending to party with id 2 a message with content: 137.702054139455\n",
            "party with id 4 sending to party with id 3 a message with content: 54.41945417774666\n",
            "party with id 4 sending to party with id 4 a message with content: 14.812739069961447\n",
            "party with id 4 sending to party with id 5 a message with content: 145.95986381582304\n",
            "party with id 5 sending to party with id 1 a message with content: 205.45576109331762\n",
            "party with id 5 sending to party with id 2 a message with content: 178.08966331710053\n",
            "party with id 5 sending to party with id 3 a message with content: 235.38124598851152\n",
            "party with id 5 sending to party with id 4 a message with content: 130.14001513610552\n",
            "party with id 5 sending to party with id 5 a message with content: 29.646677690035744\n",
            "[117.75468759550029, 116.36817479626768, 237.44733147712077, 72.18094619471037, 21.979282954859514]\n",
            "Day's Total: 53.73042301845862\n"
          ]
        }
      ]
    },
    {
      "cell_type": "markdown",
      "source": [
        "**Smart Contract**\n",
        " \n",
        "Govern the behaviour of the sensors. (Base Code from HW5)"
      ],
      "metadata": {
        "id": "9wmvhnoCs24J"
      }
    },
    {
      "cell_type": "code",
      "source": [
        "pragma solidity ^0.8.0;\n",
        "\n",
        "contract SensorContract {\n",
        "    \n",
        "    address public owner;\n",
        "    uint256[] private ownDailyTotals;\n",
        "    uint256 public aggregateDailyTotal;\n",
        "    uint256 private numberOfSensors;\n",
        "    uint256 public scheduledTime;\n",
        "    uint256 public maxCommitment;\n",
        "    \n",
        "    mapping(address => bool) private sensors;\n",
        "    mapping(address => bool) private revealed;\n",
        "\n",
        "    constructor() {\n",
        "      owner = msg.sender;\n",
        "    }\n",
        "\n",
        "    function pullTotal(uint256 value) private {\n",
        "      require(sensors[msg.sender], \"Sender is not a registered sensor.\");\n",
        "      require(!hasRevealed[msg.sender], \"You have already revealed\");\n",
        "      hasRevealed[msg.sender] = true;\n",
        "      # Pulls from local sensor data (code written in python)\n",
        "      ownDailyTotal[msg.sender] = SensorCollection(); \n",
        "    }\n",
        "\n",
        "\n",
        "    function runMPC() private {\n",
        "        require(msg.sender == owner, \"Only owner can call MPC input.\");\n",
        "        # Call implemented MPC (code written in python)\n",
        "        aggregateDailyTotal = runMPC(ownDailyTotal) \n",
        "    }\n",
        "\n",
        "\n",
        "    function sum(uint256[] input) private returns (uint256) {\n",
        "        uint256 total = 0;\n",
        "        for (uint256 i = 0; i < input.length; i++) {\n",
        "            total += input[i];\n",
        "        }\n",
        "        return total;\n",
        "    }\n",
        "\n",
        "    function postDailyTotal() returns (uint256) {\n",
        "      require(msg.sender == owner, \"Only owner can post a daily total\");\n",
        "      require(block.timestamp >= scheduledTime, \"Function cannot be executed yet.\");\n",
        "      require(!hasRevealed[msg.sender], \"You have already revealed\");\n",
        "      aggregateDailyTotal = sum(runMPC())\n",
        "      # Proof generated using external circom code\n",
        "      proof = generateProof(mpc_inputs, aggregateDailyTotal) \n",
        "      hasRevealed[msg.sender] = true;\n",
        "      return (aggregateDailyTotal, proof)\n",
        "\n",
        "    }\n",
        "\n",
        "    function setScheduledTime(uint256 scheduledTime) public {\n",
        "        require(msg.sender == owner, \"Only owner can set max commitment\");\n",
        "        maxCommitment = scheduledTime;\n",
        "    }\n",
        "\n",
        "    function setMaxCommitment(uint256 _maxCommitment) public {\n",
        "        require(msg.sender == owner, \"Only owner can set max commitment\");\n",
        "        maxCommitment = _maxCommitment;\n",
        "    }\n",
        "\n",
        "    function registerSensor(address sensorAddress) public {\n",
        "        require(msg.sender == owner, \"Only owner can register sensor\");\n",
        "        sensors[sensorAddress] = true;\n",
        "        numberOfSensors++;\n",
        "    }\n",
        "\n",
        "    function unregisterSensor(address sensorAddress) public {\n",
        "        require(msg.sender == owner, \"Only owner can unregister sensor\");\n",
        "        sensors[sensorAddress] = false;\n",
        "        numberOfSensors--;\n",
        "    }\n",
        "}\n"
      ],
      "metadata": {
        "id": "_rPuQkrKw126"
      },
      "execution_count": null,
      "outputs": []
    },
    {
      "cell_type": "markdown",
      "source": [
        "**ZK Proofs**\n",
        "\n",
        "Below are two circom circuits written for the purpose of generating ZK proofs and corresponding verifiers with zkREPL. The first circuit is used for the energy consumption and food waste data (the data that is summed for a daily total). The second circuit is used for the temperature data (the data that is averaged daily). Both of these circom circuits can be pasted into the editor at https://zkrepl.dev/ in order to generate the proof/verifier.\n",
        " "
      ],
      "metadata": {
        "id": "yEBchgyIF7qD"
      }
    },
    {
      "cell_type": "code",
      "source": [
        "# circom code for zk-proof for a+b+c+d+e == f\n",
        "\n",
        "# In practice these ZK proofs would need to use the PKI to ensure that \n",
        "# the sensor data truly came from our sensors. With limited time, we did not \n",
        "# implement the PKI. As it stands, this circuit lets us generate a proof that \n",
        "# the five input values add up to computed sum without revealing the input \n",
        "# values. In practice there would be the additional layer of confidence for \n",
        "# the user based on the fact that the proof also proves that the input data \n",
        "# came from our sensors.\n",
        "\n",
        "\"\"\"\n",
        "pragma circom 2.1.4;\n",
        "\n",
        "include \"circomlib/poseidon.circom\";\n",
        "\n",
        "template proveSum () {\n",
        "    \n",
        "    signal input sensor1;\n",
        "    signal input sensor2;\n",
        "    signal input sensor3;\n",
        "    signal input sensor4;\n",
        "    signal input sensor5;\n",
        "    signal input publicComputedSum;\n",
        "    signal input randomness;\n",
        "\n",
        "    signal output h;\n",
        "\n",
        "    var x[6];\n",
        "    x[0] = sensor1;\n",
        "    x[1] = sensor2;\n",
        "    x[2] = sensor3;\n",
        "    x[3] = sensor4;\n",
        "    x[4] = sensor5;\n",
        "    x[5] = publicComputedSum;\n",
        "\n",
        "    // Verify authenticity by checking signatures of the sensors, which would \n",
        "    // be passed in, using the PKI. This step allows the user to be confident \n",
        "    // that the input data used for the proof actually came from the sensors. \n",
        "    // The PKI would allow us to get the public key that is associated with the \n",
        "    // sensor in order to check the validitity of the signature. This step \n",
        "    // convinces the user that the data is indeed real sensor data. \n",
        "\n",
        "    signal sum;\n",
        "    sum <-- (x[0] + x[1] + x[2] + x[3] + x[4]);\n",
        "    assert(sum == x[5]);\n",
        "\n",
        "    component com = Poseidon(7);  \n",
        "    com.inputs[0] <-- sensor1;          \n",
        "    com.inputs[1] <-- sensor2;\n",
        "    com.inputs[2] <-- sensor3;  \n",
        "    com.inputs[3] <-- sensor4;\n",
        "    com.inputs[4] <-- sensor5;\n",
        "    com.inputs[5] <-- publicComputedSum;        \n",
        "    com.inputs[6] <-- randomness;\n",
        "\n",
        "    h <-- com.out;\n",
        "}\n",
        "    component main { public [ publicComputedSum ] } = proveSum();\n",
        "\n",
        "// recording below a default choice for the inputs\n",
        "\n",
        "/* INPUT = {\n",
        "    \"sensor1\": \"1\",\n",
        "    \"sensor2\": \"2\",\n",
        "    \"sensor3\": \"3\",\n",
        "    \"sensor4\": \"4\",\n",
        "    \"sensor5\": \"5\",\n",
        "    \"publicComputedSum\": \"99999999\",\n",
        "    \"randomness\": \"12345\"\n",
        "} */\n",
        "\"\"\"\n",
        "\n"
      ],
      "metadata": {
        "id": "EK2llOLcIg4n"
      },
      "execution_count": null,
      "outputs": []
    },
    {
      "cell_type": "code",
      "source": [
        "#circom code for zk-proof for a+b+c+d+e/5 == f \n",
        "# --> This will be used for the temperature data\n",
        "\n",
        "\"\"\"\n",
        "pragma circom 2.1.4;\n",
        "\n",
        "include \"circomlib/poseidon.circom\";\n",
        "\n",
        "template proveSum () {\n",
        "    \n",
        "    signal input sensor1;\n",
        "    signal input sensor2;\n",
        "    signal input sensor3;\n",
        "    signal input sensor4;\n",
        "    signal input sensor5;\n",
        "    signal input publicComputedAverage;\n",
        "    signal input randomness;\n",
        "\n",
        "    signal output h;\n",
        "\n",
        "    var x[6];\n",
        "    x[0] = sensor1;\n",
        "    x[1] = sensor2;\n",
        "    x[2] = sensor3;\n",
        "    x[3] = sensor4;\n",
        "    x[4] = sensor5;\n",
        "    x[5] = publicComputedAverage;\n",
        "\n",
        "    // Verify authenticity by checking signatures of the sensors, which would \n",
        "    // be passed in, using the PKI. This step allows the user to be confident \n",
        "    // that the input data used for the proof actually came from the sensors. \n",
        "    // The PKI would allow us to get the public key that is associated with the \n",
        "    // sensor in order to check the validitity of the signature. This step \n",
        "    // convinces the user that the data is indeed real sensor data. \n",
        "\n",
        "    signal avg;\n",
        "    avg <-- (x[0] + x[1] + x[2] + x[3] + x[4]) / 5;\n",
        "    assert(avg == x[5]);\n",
        "\n",
        "    component com = Poseidon(7);  \n",
        "    com.inputs[0] <-- sensor1;          \n",
        "    com.inputs[1] <-- sensor2;\n",
        "    com.inputs[2] <-- sensor3;  \n",
        "    com.inputs[3] <-- sensor4;\n",
        "    com.inputs[4] <-- sensor5;\n",
        "    com.inputs[5] <-- publicComputedAverage;        \n",
        "    com.inputs[6] <-- randomness;\n",
        "\n",
        "    h <-- com.out;\n",
        "}\n",
        "    component main { public [ publicComputedAverage ] } = proveSum();\n",
        "\n",
        "// recording below a default choice for the inputs\n",
        "\n",
        "/* INPUT = {\n",
        "    \"sensor1\": \"1\",\n",
        "    \"sensor2\": \"2\",\n",
        "    \"sensor3\": \"3\",\n",
        "    \"sensor4\": \"4\",\n",
        "    \"sensor5\": \"5\",\n",
        "    \"publicComputedAverage\": \"99999999\",\n",
        "    \"randomness\": \"12345\"\n",
        "} */\n",
        "\"\"\"\n"
      ],
      "metadata": {
        "id": "rKirY2Y61bgg"
      },
      "execution_count": null,
      "outputs": []
    },
    {
      "cell_type": "code",
      "source": [],
      "metadata": {
        "id": "RhRYCAVYR5Lv"
      },
      "execution_count": null,
      "outputs": []
    }
  ]
}